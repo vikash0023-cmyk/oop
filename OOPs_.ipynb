{
  "nbformat": 4,
  "nbformat_minor": 0,
  "metadata": {
    "colab": {
      "provenance": []
    },
    "kernelspec": {
      "name": "python3",
      "display_name": "Python 3"
    },
    "language_info": {
      "name": "python"
    }
  },
  "cells": [
    {
      "cell_type": "markdown",
      "source": [
        "1.What is Object oriented Programming (oOP)?-Object  Oriented Programming (OOP) is a programming paradigm that structures software around objects, which are self-contained units that bundle data (attributes) and the functions that operate on that data."
      ],
      "metadata": {
        "id": "SwMJlp8d4RAh"
      }
    },
    {
      "cell_type": "markdown",
      "source": [
        "2. What is a class in oop?\n",
        "a class serves as a blueprint or template for creating objects. It defines the structure and behavior that objects of that class\n",
        "will possess."
      ],
      "metadata": {
        "id": "Ru93Qm0ZTSPd"
      }
    },
    {
      "cell_type": "markdown",
      "source": [
        "3. What is an object in OOP?\n",
        "- an object is a fundamental building block that represents a real-world entity or a concept within a software system. It is an instance of a class, which acts as a blueprint or template defining the object's structure and behavior."
      ],
      "metadata": {
        "id": "X_HTBzzRWa7p"
      }
    },
    {
      "cell_type": "markdown",
      "source": [
        "4. What is the difference between abstraction and encapsulation?\n",
        "- Abstraction\n",
        "focuses on what an object does. It involves hiding complex implementation details and exposing only the essential features and functionalities to the user. Abstraction allows you to define a simplified view of a system or object, emphasizing its behavior without revealing its internal workings. This is often achieved through abstract classes and interfaces.\n",
        "Encapsulation\n",
        "focuses on how an object manages its internal state and behavior. It involves bundling data (attributes) and the methods that operate on that data within a single unit, typically a class. Encapsulation also involves controlling access to this internal data, typically by making it private and providing public methods (getters and setters) for controlled interaction. This protects the data from unauthorized access and ensures data integrity."
      ],
      "metadata": {
        "id": "amYOAzREW3T9"
      }
    },
    {
      "cell_type": "markdown",
      "source": [
        "5. What are dunder methods in Python?\n",
        "-Dunder methods, also known as magic methods or special methods, are a core part of Python's object model. They are distinguished by their names, which begin and end with double underscores (e.g., __init__, __str__, __add__)."
      ],
      "metadata": {
        "id": "yt42BlOqXMcp"
      }
    },
    {
      "cell_type": "markdown",
      "source": [
        "6. Explain the concept of inheritance in OOP\n",
        "- Inheritance is a fundamental concept in Object-Oriented Programming (OOP) that enables a class to acquire the properties (attributes) and behaviors (methods) of another class. The class that is being inherited is known as the superclass or parent class, while the class that inherits from it is called the subclass or child class.\n",
        "\n",
        "Core components\n",
        "Parent/Superclass: The base class that provides common attributes and methods to its children.\n",
        "Child/Subclass: The new class that inherits from the parent class. It automatically receives the parent's functionality and can also add its own unique features.\n",
        "extends keyword: Used in languages like Java to indicate that a class is inheriting from another.\n",
        "Method overriding: The ability for a subclass to provide a specific implementation for a method that is already defined in its parent class."
      ],
      "metadata": {
        "id": "GXtPTOMgXoMn"
      }
    },
    {
      "cell_type": "markdown",
      "source": [
        "7.what is polymorphism in oop?\n",
        "-Polymorphism is the ability of an object or function to take on multiple forms. It is one of the core principles of Object-Oriented Programming (OOP) and allows a single interface to be used for different underlying data types."
      ],
      "metadata": {
        "id": "-E7DA-SmYKa5"
      }
    },
    {
      "cell_type": "markdown",
      "source": [
        "8. How is encapsulation achieved in Python?\n",
        "-encapsulation is achieved through a combination of naming conventions and property decorators, rather than strict access modifiers like public or private found in other languages. The core idea is to signal to other developers that certain attributes and methods should not be accessed directly, and instead, be interacted with via a controlled interface."
      ],
      "metadata": {
        "id": "91_XAbZcY1xk"
      }
    },
    {
      "cell_type": "markdown",
      "source": [
        "9. What is a constructor in Python?\n",
        "\n",
        "a constructor is a special method used to initialize a newly created object. While the term \"constructor\" is commonly used, the method that performs this initialization is technically called the initializer, and it is defined with the special dunder (double underscore) name __init__().\n",
        "The primary purpose of the __init__() method is to set the initial state of the object by assigning values to its attributes. It is automatically called right after the object has been created in memory by the __new__() method."
      ],
      "metadata": {
        "id": "kOaVDO49ZL37"
      }
    },
    {
      "cell_type": "markdown",
      "source": [
        "10. What are class and static methods in\n",
        "Python?\n",
        "class and static methods are special types of methods defined within a class. While regular instance methods are bound to a specific instance of the class and can access instance-specific data, class and static methods are bound to the class itself and do not require an instance to be called. The key differences lie in their purpose, their first argument, and their access to class and instance state.\n",
        "\n",
        "Class methods\n",
        "A class method is a method that is bound to the class and receives the class itself as its first argument, conventionally named cls. It is defined using the @class method decorator.\n",
        "Characteristics:\n",
        "Bound to the class: It can be called on the class itself or on an instance of the class.\n",
        "Accesses class state: Because it receives the cls parameter, it can access and modify class-level attributes, which apply to all instances of the class.\n",
        "No access to instance state: It cannot access or modify instance-specific attributes.\n",
        "When to use a class method:\n",
        "Factory methods: A common use case is to create alternative constructors. Since Python only allows one __init__ method, class methods provide a way to create new instances from different input formats.\n",
        "Modifying class state: They are useful for operations that need to modify a class variable that affects all instances.\n",
        "Inheritance: In inheritance, class methods can be called on subclasses, and cls will correctly refer to the subclass, allowing for flexible behavior.\n",
        "'''class Animal:\n",
        "    total_animals = 0\n",
        "\n",
        "    def __init__(self, name):\n",
        "        self.name = name\n",
        "        Animal.total_animals += 1\n",
        "\n",
        "    @classmethod\n",
        "    def get_total_animals(cls):\n",
        "        # Can access the class variable `total_animals`\n",
        "        print(f\"Total animals created: {cls.total_animals}\")\n",
        "\n",
        "# Call the class method directly on the class\n",
        "Animal.get_total_animals()\n",
        "# Output: Total animals created: 0\n",
        "\n",
        "cat = Animal(\"Cat\")\n",
        "dog = Animal(\"Dog\")\n",
        "\n",
        "# The class variable is updated across all instances\n",
        "Animal.get_total_animals()\n",
        "# Output: Total animals created: 2'''\n",
        "\n",
        "Static methods\n",
        "A static method is essentially a function that \"lives\" inside a class for logical grouping but does not depend on the class or its instances. It does not receive an implicit first argument like self or cls and is defined using the @staticmethod decorator.\n",
        "Characteristics:\n",
        "Not bound to class or instance: It behaves like a regular function but is part of the class's namespace.\n",
        "No access to state: It cannot access or modify either the class's state or the instance's state.\n",
        "Called via class or instance: Can be called directly on the class or on an instance.\n",
        "When to use a static method:\n",
        "Utility functions: They are ideal for creating helper functions that logically belong to a class but don't need any class or instance data to function.\n",
        "Namespacing: They can improve code readability and organization by keeping related functions within the class definition.\n",
        "No inheritance dependencies: Because static methods don't rely on the class, their behavior is predictable and consistent across the inheritance hierarchy.\n",
        "\n",
        "'''\n",
        "class MathOperations:\n",
        "    @staticmethod\n",
        "    def add(x, y):\n",
        "        # A utility function that doesn't need class or instance data\n",
        "        return x + y\n",
        "\n",
        "# Call the static method directly on the class\n",
        "result = MathOperations.add(10, 5)\n",
        "print(f\"The sum is: {result}\")\n",
        "# Output: The sum is: 15 '''"
      ],
      "metadata": {
        "id": "zCiZnParZole"
      }
    },
    {
      "cell_type": "markdown",
      "source": [
        "11. What is method overloading in Python?\n",
        "If you define multiple methods with the same name in a class, Python's dynamic typing system will simply overwrite the previous definitions, and only the last one will be available for use.\n",
        "'''\n",
        "class Calculator:\n",
        "    def add(self, x, y=0, z=0):\n",
        "        return x + y + z\n",
        "\n",
        "calc = Calculator()\n",
        "\n",
        "print(calc.add(2))        # Uses default values for y and z, output: 2\n",
        "print(calc.add(2, 3))     # Overrides y, uses default for z, output: 5\n",
        "print(calc.add(2, 3, 4))  # Overrides all, output: 9 '''"
      ],
      "metadata": {
        "id": "ay_SGGfxbNyS"
      }
    },
    {
      "cell_type": "markdown",
      "source": [
        "12. What is method overriding in OOP?\n",
        "Method overriding is a feature in Object-Oriented Programming (OOP) that allows a subclass (or child class) to provide its own specific implementation of a method that is already defined in one of its superclasses (or parent classes). This happens when a subclass is not satisfied with the implementation of an inherited method.\n",
        "\n",
        "'''\n",
        "class Vehicle:\n",
        "    def drive(self):\n",
        "        print(\"Vehicle is driving.\")\n",
        "\n",
        "class Car(Vehicle):\n",
        "    # This method overrides the drive() method from the Vehicle class\n",
        "    def drive(self):\n",
        "        print(\"Car is driving on four wheels.\")\n",
        "\n",
        "# Create objects\n",
        "vehicle = Vehicle()\n",
        "car = Car()\n",
        "\n",
        "# The behavior depends on the object's actual class\n",
        "vehicle.drive()  # Output: Vehicle is driving.\n",
        "car.drive()      # Output: Car is driving on four wheels. '''"
      ],
      "metadata": {
        "id": "YeN_JGGhcGxF"
      }
    },
    {
      "cell_type": "markdown",
      "source": [
        "13. What is a property decorator in Python?\n",
        "A property decorator in Python is a built-in feature that allows you to define methods within a class that can be accessed like attributes. It provides a clean, Pythonic way to implement getters, setters, and deleters, giving you precise control over how an object's attributes are accessed and modified."
      ],
      "metadata": {
        "id": "4jXS1oaMcyWX"
      }
    },
    {
      "cell_type": "markdown",
      "source": [
        "14. Why is polymorphism important in OOP?\n",
        "Polymorphism is important in Object-Oriented Programming (OOP) because it allows developers to write flexible, reusable, and modular code. By enabling objects to behave differently based on their specific class type, polymorphism reduces complexity and\n",
        "makes code easier to maintain and extend.\n",
        "\n",
        "Without polymorphism:\n",
        "\n",
        "''' def make_sound(animal):\n",
        "    if isinstance(animal, Dog):\n",
        "        print(\"Dog barks.\")\n",
        "    elif isinstance(animal, Cat):\n",
        "        print(\"Cat meows.\") '''\n",
        "\n",
        "With polymorphism\n",
        "\n",
        "''' def make_sound(animal):\n",
        "    animal.make_sound() '''\n",
        "# The animal object itself decides what sound to make"
      ],
      "metadata": {
        "id": "a9ng3vNMdHej"
      }
    },
    {
      "cell_type": "markdown",
      "source": [
        "15. What is an abstract class in Python?\n",
        "An abstract class in Python is a class that cannot be instantiated on its own and is designed to serve as a blueprint for other classes. It defines a common interface that its subclasses must follow by containing one or more abstract methods, which are declared but lack implementation.\n",
        "Key features\n",
        "Blueprint for subclasses: Abstract classes ensure that all subclasses implement a specific set of methods, enforcing a consistent structure across a family of related classes.\n",
        "Cannot be instantiated: An abstract class with unimplemented abstract methods cannot be created as a direct object. Attempting to do so will raise a Type error.\n",
        "Uses the abc module: Python uses the abc (Abstract Base Classes) module to create abstract classes. The module provides the ABC class and the @abstract method decorator.\n",
        "Can contain concrete methods: In addition to abstract methods, an abstract class can have regular, \"concrete\" methods that have a full implementation. These can be inherited and used by subclasses directly."
      ],
      "metadata": {
        "id": "RtT4aPMWk-Y_"
      }
    },
    {
      "cell_type": "markdown",
      "source": [
        "16. What are the advantages of OOP?\n",
        "\n",
        "Object-Oriented Programming (OOP) offers many advantages, primarily by organizing code around objects and classes rather than functions and logic. Its key benefits are rooted in its core principles: Encapsulation, Inheritance, Polymorphism, and Abstraction.\n",
        "Improved code structure and organization\n",
        "Modularity: OOP breaks down complex systems into smaller, self-contained objects. This makes large programs easier to manage, understand, and update, since each module has a specific function and limited interactions with others.\n",
        "Real-world modeling: It allows developers to model real-world entities and their interactions intuitively. This helps bridge the gap between a problem domain and its software solution, making the system easier to conceptualize and design.\n",
        "Better organization: Related data and behaviors are grouped together into classes, leading to cleaner, more logical code that is easier to navigate and maintain.\n",
        "Enhanced security and data management\n",
        "Data security: Encapsulation, or \"data hiding,\" protects an object's internal state from unauthorized modification by restricting direct access to its data. Access is controlled through well-defined public methods, enhancing security and preventing unintended changes.\n",
        "Reduced data redundancy: When multiple classes share similar functionality, they can inherit from a common base class instead of duplicating the code. This reduces redundancy and the potential for inconsistencies.\n",
        "Increased productivity and efficiency\n",
        "Code reusability: Inheritance is a cornerstone of code reusability, allowing new classes to inherit and extend properties from existing ones. This saves time and effort, promoting consistency and reducing errors by reusing proven, pre-built components.\n",
        "Higher productivity: With code reusability and a modular structure, developers can work more efficiently. They can \"stitch\" new software objects together to create new programs, relying on established libraries and reusable objects.\n",
        "Collaborative development: Modularity and encapsulation enable multiple developers or teams to work on different classes or modules simultaneously without causing conflicts. This compartmentalization allows for a more efficient and parallel workflow, especially in large projects."
      ],
      "metadata": {
        "id": "KaTxS-EPsCot"
      }
    },
    {
      "cell_type": "markdown",
      "source": [
        "17. What is the difference between a class variable and an instance variable?\n",
        "\n",
        "The primary distinction between a class variable and an instance variable lies in their scope, storage, and how they relate to the class and its instances.\n",
        "Class Variables:\n",
        "Scope and Ownership:\n",
        "Class variables are owned by the class itself, not by any specific instance. They are defined within the class but outside of any methods.\n",
        "Sharing:\n",
        "All instances of a class share the same single copy of a class variable. If one instance modifies a class variable, that change is reflected for all other instances.\n",
        "Access:\n",
        "Class variables can be accessed using either the class name (e.g., ClassName.variable_name) or an instance of the class (e.g., instance_name.variable_name).\n",
        "Use Cases:\n",
        "Often used for data that is common to all instances, such as constants, shared counters, or configurations that apply globally to the class.\n",
        "Instance Variables:\n",
        "Scope and Ownership:\n",
        "Instance variables are owned by individual instances of the class. They are typically defined and initialized within the constructor (__init__ in Python) or other instance methods.\n",
        "Uniqueness:\n",
        "Each instance of a class has its own independent copy of instance variables. Changes to an instance variable in one object do not affect the same variable in another object.\n",
        "Access:\n",
        "Instance variables are accessed through an instance of the class (e.g., instance_name.variable_name).\n",
        "Use Cases:\n",
        "Used for data that is unique to each specific object, such as an object's name, age, or specific attributes that differentiate one instance from another."
      ],
      "metadata": {
        "id": "7bHQ9fT1sd4T"
      }
    },
    {
      "cell_type": "markdown",
      "source": [
        "18. What is multiple inheritance in Python?\n",
        "\n",
        "Multiple inheritance in Python is a feature that allows a class to inherit attributes and methods from more than one parent class. This means a single child class can combine functionalities and characteristics from multiple base classes."
      ],
      "metadata": {
        "id": "2ogoTuzPs-Hb"
      }
    },
    {
      "cell_type": "markdown",
      "source": [],
      "metadata": {
        "id": "rTrFp7odtNnf"
      }
    },
    {
      "cell_type": "markdown",
      "source": [
        "19. Explain the purpose of \"__str__'\n",
        "     and'__repr__'' methods in Python.\n",
        "\n",
        "In Python, __str__ and __repr__ are special methods (also known as \"dunder methods\" due to their double underscores) that define how an object is represented as a string. They serve different purposes and are aimed at different audiences:\n",
        "__str__ (for \"string\"):\n",
        "Purpose: Provides an \"informal\" or \"user-friendly\" string representation of an object.\n",
        "Audience: Intended for end-users or for display in contexts like logging or user interfaces (e.g., when using print() or str()).\n",
        "Characteristics: Focuses on readability and may omit some details for clarity.\n",
        "__repr__ (for \"representation\"):\n",
        "Purpose: Provides an \"official\" or \"developer-friendly\" string representation of an object.\n",
        "Audience: Intended for developers, particularly for debugging and introspection.\n",
        "Characteristics: Aims to be unambiguous and, whenever possible, should return a string that could recreate the object when passed to eval(). It typically includes all necessary information to identify or reconstruct the object's state.\n",
        "Key Differences and Interactions:\n",
        "When you use print() or str(), Python primarily looks for the __str__ method. If __str__ is not defined, it falls back to __repr__.\n",
        "When you inspect an object in an interactive Python shell or use repr(), Python explicitly calls __repr__.\n",
        "It is generally recommended to always define a __repr__ method for your classes, as it's crucial for debugging. Defining __str__ is optional but beneficial for user-facing output."
      ],
      "metadata": {
        "id": "YD2G1IA-tVJ2"
      }
    },
    {
      "cell_type": "markdown",
      "source": [
        "20. What is the significance of the 'super()        function in Python?\n",
        "\n",
        "The super() function in Python provides a way for a subclass to call a method that is defined in one of its parent (or \"superclass\") classes. Its significance lies in promoting code reusability and simplifying complex inheritance structures, particularly in scenarios involving multiple inheritance."
      ],
      "metadata": {
        "id": "F3LuY-ZMtltf"
      }
    },
    {
      "cell_type": "markdown",
      "source": [
        "21. What is the significance of the __del__      method in Pythoy?\n",
        "\n",
        "The __del__ method, often called the destructor or finalizer, is a special method in Python that is executed when an object is about to be destroyed. Its primary significance is to allow for the cleanup of resources associated with an object before its memory is reclaimed by the garbage collector."
      ],
      "metadata": {
        "id": "82-ChJQzt953"
      }
    },
    {
      "cell_type": "markdown",
      "source": [
        "22. What is the difference between\n",
        "    @staticmethod and @classmethod in    \n",
        "      Python?\n",
        "\n",
        " @classmethod when the method needs to interact with the class itself (e.g., access class attributes, create new instances of the class).\n",
        " @staticmethod when the method is a standalone utility function that happens to be logically grouped with the class but does not require access to the class or instance state."
      ],
      "metadata": {
        "id": "HT2RxsMpuQRq"
      }
    },
    {
      "cell_type": "markdown",
      "source": [
        "23. How does polymorphism work in Python    \n",
        "     with inheritance?\n",
        "\n",
        "polymorphism with inheritance is achieved primarily through method overriding and the language's \"duck typing\" philosophy. This allows a single interface (a method with the same name) to be used on objects of different classes, with each object responding in its own specific way.\n",
        "Key concepts\n",
        "Method overriding\n",
        "This is the most direct way to see polymorphism in action with inheritance.\n",
        "A child class (subclass) provides its own specific implementation of a method that is already defined in its parent class (superclass).\n",
        "When that method is called on an object of the child class, the child's version is executed, effectively overriding the parent's method.\n",
        "\n",
        "Example:\n",
        "In this code, the Dog and Cat classes override the make_sound method from the Animal base class to provide their own distinct\n",
        " behavior.\n",
        "\n",
        "'''\n",
        "class Animal:\n",
        "    def make_sound(self):\n",
        "        print(\"The animal makes a sound.\")\n",
        "\n",
        "class Dog(Animal):\n",
        "    def make_sound(self):\n",
        "        print(\"The dog barks.\")\n",
        "\n",
        "class Cat(Animal):\n",
        "    def make_sound(self):\n",
        "        print(\"The cat meows.\")\n",
        "\n",
        "# The power of polymorphism\n",
        "for animal in [Animal(), Dog(), Cat()]:\n",
        "    animal.make_sound() '''\n",
        "\n",
        "Output:\n",
        "\n",
        "The animal makes a sound.\n",
        "The dog barks.\n",
        "The cat meows."
      ],
      "metadata": {
        "id": "7vBvouOuuw3v"
      }
    },
    {
      "cell_type": "markdown",
      "source": [
        "24. What is method chaining in Python OOP?\n",
        "\n",
        "Method chaining is an object-oriented programming (OOP) technique that allows you to call multiple methods on an object in a single, continuous line of code. This is achieved by having each method return the object itself (self), making the code more readable and concise by eliminating the need for temporary variables to store intermediate results.\n",
        "How it works\n",
        "For method chaining to work in a custom class, each method that is part of the chain must explicitly return the instance of the object (self). This makes the return value of one method an object on which the next method can be called, creating a seamless \"chain\" of operations.\n",
        "\n",
        "Example\n",
        "Here is a class Dog with chainable methods bark(), run(), and eat():\n",
        "\n",
        "'''\n",
        "class Dog:\n",
        "    def __init__(self, name):\n",
        "        self.name = name\n",
        "\n",
        "    def bark(self):\n",
        "        print(f\"{self.name} is barking.\")\n",
        "        return self # Returns the object instance\n",
        "\n",
        "    def run(self, distance):\n",
        "        print(f\"{self.name} is running {distance} miles.\")\n",
        "        return self # Returns the object instance\n",
        "\n",
        "    def eat(self):\n",
        "        print(f\"{self.name} is eating.\")\n",
        "        return self # Returns the object instance\n",
        "\n",
        "# Chaining method calls on a single object\n",
        "my_dog = Dog(\"Buddy\")\n",
        "my_dog.bark().run(2).eat() '''\n",
        "\n",
        "Output:\n",
        "\n",
        "Buddy is barking.\n",
        "Buddy is running 2 miles.\n",
        "Buddy is eating."
      ],
      "metadata": {
        "id": "GNleBuk-vlY2"
      }
    },
    {
      "cell_type": "markdown",
      "source": [
        "25. What is the purpose of the __call__\n",
        "      method in Python?\n",
        "\n",
        "The __call__ method in Python allows an instance of a class to be called as if it were a function. This provides a clean, object-oriented way to create \"callable objects\" that can maintain state while acting like a regular function. When you call an object (e.g., obj(arg)), Python automatically executes its __call__ method behind the scenes.\n",
        "How the __call__ method works\n",
        "By defining __call__ in a class, you make its instances callable. The key difference between __init__ and __call__ is when they are invoked:\n",
        "The __init__ method runs only once, when the object is first created and initialized (obj = MyClass()).\n",
        "The __call__ method can be invoked multiple times after the object has been instantiated (obj()).\n",
        "\n",
        "\n",
        "Example: A multiplier object\n",
        "This example shows how __call__ can create configurable \"function-like\" objects.\n",
        "\n",
        "'''\n",
        " class Multiplier:\n",
        "    def __init__(self, factor):\n",
        "        \"\"\"Initializes the object with a multiplication factor.\"\"\"\n",
        "        self.factor = factor\n",
        "\n",
        "    def __call__(self, number):\n",
        "        \"\"\"Allows the instance to be called like a function.\"\"\"\n",
        "        return self.factor * number\n",
        "\n",
        "# Create instances of the Multiplier class\n",
        "double = Multiplier(2)\n",
        "triple = Multiplier(3)\n",
        "\n",
        "# Call the instances as if they were functions\n",
        "print(f\"Multiplying 5 by the 'double' object: {double(5)}\")\n",
        "print(f\"Multiplying 5 by the 'triple' object: {triple(5)}\") '''\n",
        "\n",
        "Output:\n",
        "\n",
        "Multiplying 5 by the 'double' object: 10\n",
        "Multiplying 5 by the 'triple' object: 15"
      ],
      "metadata": {
        "id": "wGAeV7PGwLM8"
      }
    },
    {
      "cell_type": "code",
      "source": [
        "#1.\n",
        "'''\n",
        " class Animal:\n",
        "    def speak(self):\n",
        "        \"\"\"Prints a generic message about the animal speaking.\"\"\"\n",
        "        print(\"The animal makes a sound.\")\n",
        "\n",
        "class Dog(Animal):\n",
        "    def speak(self):\n",
        "        \"\"\"Overrides the speak method to print 'Bark!' for a Dog.\"\"\"\n",
        "        print(\"Bark!\")\n",
        "\n",
        "# Create instances and call the speak method\n",
        "generic_animal = Animal()\n",
        "dog_instance = Dog()\n",
        "\n",
        "print(\"Calling speak on Animal instance:\")\n",
        "generic_animal.speak()\n",
        "\n",
        "print(\"\\nCalling speak on Dog instance:\")\n",
        "dog_instance.speak() '''"
      ],
      "metadata": {
        "colab": {
          "base_uri": "https://localhost:8080/",
          "height": 278
        },
        "id": "keJecHhcxRs7",
        "outputId": "a2c67a4f-f265-40a1-981f-ee3162b5a7c6"
      },
      "execution_count": null,
      "outputs": [
        {
          "output_type": "execute_result",
          "data": {
            "text/plain": [
              "'\\n class Animal:\\n    def speak(self):\\n        \"\"\"Prints a generic message about the animal speaking.\"\"\"\\n        print(\"The animal makes a sound.\")\\n\\nclass Dog(Animal):\\n    def speak(self):\\n        \"\"\"Overrides the speak method to print \\'Bark!\\' for a Dog.\"\"\"\\n        print(\"Bark!\")\\n\\n# Create instances and call the speak method\\ngeneric_animal = Animal()\\ndog_instance = Dog()\\n\\nprint(\"Calling speak on Animal instance:\")\\ngeneric_animal.speak()\\n\\nprint(\"\\nCalling speak on Dog instance:\")\\ndog_instance.speak() '"
            ],
            "application/vnd.google.colaboratory.intrinsic+json": {
              "type": "string"
            }
          },
          "metadata": {},
          "execution_count": 1
        }
      ]
    },
    {
      "cell_type": "code",
      "source": [
        "#2.\n",
        "'''\n",
        "  from abc import ABC, abstractmethod\n",
        "import math\n",
        "\n",
        "# Abstract base class Shape\n",
        "class Shape(ABC):\n",
        "    \"\"\"An abstract class for geometric shapes.\"\"\"\n",
        "\n",
        "    @abstractmethod\n",
        "    def area(self):\n",
        "        \"\"\"Calculates and returns the area of the shape.\"\"\"\n",
        "        pass\n",
        "\n",
        "# Child class Circle\n",
        "class Circle(Shape):\n",
        "    \"\"\"A concrete class representing a circle.\"\"\"\n",
        "    def __init__(self, radius):\n",
        "        if radius <= 0:\n",
        "            raise ValueError(\"Radius must be a positive number.\")\n",
        "        self.radius = radius\n",
        "\n",
        "    def area(self):\n",
        "        \"\"\"Calculates the area of the circle using the formula π * r².\"\"\"\n",
        "        return math.pi * self.radius ** 2\n",
        "\n",
        "# Child class Rectangle\n",
        "class Rectangle(Shape):\n",
        "    \"\"\"A concrete class representing a rectangle.\"\"\"\n",
        "    def __init__(self, length, width):\n",
        "        if length <= 0 or width <= 0:\n",
        "            raise ValueError(\"Length and width must be positive numbers.\")\n",
        "        self.length = length\n",
        "        self.width = width\n",
        "\n",
        "    def area(self):\n",
        "        \"\"\"Calculates the area of the rectangle using the formula length * width.\"\"\"\n",
        "        return self.length * self.width\n",
        "\n",
        "# --- Usage Example ---\n",
        "\n",
        "# Create instances of the concrete subclasses\n",
        "try:\n",
        "    my_circle = Circle(5)\n",
        "    my_rectangle = Rectangle(4, 6)\n",
        "\n",
        "    # Call the area() method on each object\n",
        "    print(f\"Area of the circle: {my_circle.area():.2f}\")\n",
        "    print(f\"Area of the rectangle: {my_rectangle.area()}\")\n",
        "\n",
        "    # Trying to instantiate the abstract class will raise an error\n",
        "    # invalid_shape = Shape()\n",
        "\n",
        "except ValueError as e:\n",
        "    print(f\"Error: {e}\") '''"
      ],
      "metadata": {
        "colab": {
          "base_uri": "https://localhost:8080/",
          "height": 487
        },
        "id": "bTHk6cwUxdSk",
        "outputId": "536e5fe5-9804-42e9-85cd-1926550a8474"
      },
      "execution_count": null,
      "outputs": [
        {
          "output_type": "execute_result",
          "data": {
            "text/plain": [
              "'\\n  from abc import ABC, abstractmethod\\nimport math\\n\\n# Abstract base class Shape\\nclass Shape(ABC):\\n    \"\"\"An abstract class for geometric shapes.\"\"\"\\n    \\n    @abstractmethod\\n    def area(self):\\n        \"\"\"Calculates and returns the area of the shape.\"\"\"\\n        pass\\n\\n# Child class Circle\\nclass Circle(Shape):\\n    \"\"\"A concrete class representing a circle.\"\"\"\\n    def __init__(self, radius):\\n        if radius <= 0:\\n            raise ValueError(\"Radius must be a positive number.\")\\n        self.radius = radius\\n\\n    def area(self):\\n        \"\"\"Calculates the area of the circle using the formula π * r².\"\"\"\\n        return math.pi * self.radius ** 2\\n\\n# Child class Rectangle\\nclass Rectangle(Shape):\\n    \"\"\"A concrete class representing a rectangle.\"\"\"\\n    def __init__(self, length, width):\\n        if length <= 0 or width <= 0:\\n            raise ValueError(\"Length and width must be positive numbers.\")\\n        self.length = length\\n        self.width = width\\n\\n    def area(self):\\n        \"\"\"Calculates the area of the rectangle using the formula length * width.\"\"\"\\n        return self.length * self.width\\n\\n# --- Usage Example ---\\n\\n# Create instances of the concrete subclasses\\ntry:\\n    my_circle = Circle(5)\\n    my_rectangle = Rectangle(4, 6)\\n\\n    # Call the area() method on each object\\n    print(f\"Area of the circle: {my_circle.area():.2f}\")\\n    print(f\"Area of the rectangle: {my_rectangle.area()}\")\\n\\n    # Trying to instantiate the abstract class will raise an error\\n    # invalid_shape = Shape() \\n\\nexcept ValueError as e:\\n    print(f\"Error: {e}\") '"
            ],
            "application/vnd.google.colaboratory.intrinsic+json": {
              "type": "string"
            }
          },
          "metadata": {},
          "execution_count": 2
        }
      ]
    },
    {
      "cell_type": "code",
      "source": [
        "#3.\n",
        "'''\n",
        "  # Level 1: Base class\n",
        "class Vehicle:\n",
        "    def __init__(self, vehicle_type):\n",
        "        self.type = vehicle_type\n",
        "\n",
        "    def display_info(self):\n",
        "        print(f\"This is a {self.type}.\")\n",
        "\n",
        "# Level 2: Child class inheriting from Vehicle\n",
        "class Car(Vehicle):\n",
        "    def __init__(self, vehicle_type, model):\n",
        "        # Call the constructor of the parent class (Vehicle)\n",
        "        super().__init__(vehicle_type)\n",
        "        self.model = model\n",
        "\n",
        "    def display_info(self):\n",
        "        super().display_info() # Call the parent's method\n",
        "        print(f\"It's a {self.model} model.\")\n",
        "\n",
        "# Level 3: Grandchild class inheriting from Car\n",
        "class ElectricCar(Car):\n",
        "    def __init__(self, vehicle_type, model, battery_kwh):\n",
        "        # Call the constructor of the parent class (Car)\n",
        "        super().__init__(vehicle_type, model)\n",
        "        self.battery_kwh = battery_kwh\n",
        "\n",
        "    def display_info(self):\n",
        "        super().display_info() # Call the parent's method\n",
        "        print(f\"The battery capacity is {self.battery_kwh} kWh.\")\n",
        "\n",
        "# --- Usage Example ---\n",
        "\n",
        "# Create an instance of the ElectricCar class\n",
        "my_electric_car = ElectricCar(\"sedan\", \"Tesla Model 3\", 75)\n",
        "\n",
        "# Call the display_info method on the ElectricCar object\n",
        "# This method will call the display_info methods from both Car and Vehicle\n",
        "my_electric_car.display_info() '''"
      ],
      "metadata": {
        "colab": {
          "base_uri": "https://localhost:8080/",
          "height": 487
        },
        "id": "1Yqm-X_zxxX3",
        "outputId": "432d492b-4d2a-40e6-a772-a5c5f559021b"
      },
      "execution_count": null,
      "outputs": [
        {
          "output_type": "execute_result",
          "data": {
            "text/plain": [
              "'\\n  # Level 1: Base class\\nclass Vehicle:\\n    def __init__(self, vehicle_type):\\n        self.type = vehicle_type\\n    \\n    def display_info(self):\\n        print(f\"This is a {self.type}.\")\\n\\n# Level 2: Child class inheriting from Vehicle\\nclass Car(Vehicle):\\n    def __init__(self, vehicle_type, model):\\n        # Call the constructor of the parent class (Vehicle)\\n        super().__init__(vehicle_type)\\n        self.model = model\\n    \\n    def display_info(self):\\n        super().display_info() # Call the parent\\'s method\\n        print(f\"It\\'s a {self.model} model.\")\\n\\n# Level 3: Grandchild class inheriting from Car\\nclass ElectricCar(Car):\\n    def __init__(self, vehicle_type, model, battery_kwh):\\n        # Call the constructor of the parent class (Car)\\n        super().__init__(vehicle_type, model)\\n        self.battery_kwh = battery_kwh\\n\\n    def display_info(self):\\n        super().display_info() # Call the parent\\'s method\\n        print(f\"The battery capacity is {self.battery_kwh} kWh.\")\\n\\n# --- Usage Example ---\\n\\n# Create an instance of the ElectricCar class\\nmy_electric_car = ElectricCar(\"sedan\", \"Tesla Model 3\", 75)\\n\\n# Call the display_info method on the ElectricCar object\\n# This method will call the display_info methods from both Car and Vehicle\\nmy_electric_car.display_info() '"
            ],
            "application/vnd.google.colaboratory.intrinsic+json": {
              "type": "string"
            }
          },
          "metadata": {},
          "execution_count": 3
        }
      ]
    },
    {
      "cell_type": "code",
      "source": [
        "#4.\n",
        "'''\n",
        " # Base class\n",
        "class Bird:\n",
        "    def fly(self):\n",
        "        \"\"\"A generic fly method for all birds.\"\"\"\n",
        "        print(\"Birds can generally fly.\")\n",
        "\n",
        "# Derived class Sparrow, which overrides the fly() method\n",
        "class Sparrow(Bird):\n",
        "    def fly(self):\n",
        "        \"\"\"Specific fly method for a sparrow.\"\"\"\n",
        "        print(\"A sparrow flies away.\")\n",
        "\n",
        "# Derived class Penguin, which also overrides the fly() method\n",
        "class Penguin(Bird):\n",
        "    def fly(self):\n",
        "        \"\"\"Specific fly method for a penguin.\"\"\"\n",
        "        print(\"A penguin cannot fly, but it can swim very well.\")\n",
        "\n",
        "# --- Demonstrate polymorphism ---\n",
        "\n",
        "# Create instances of each class\n",
        "bird = Bird()\n",
        "sparrow = Sparrow()\n",
        "penguin = Penguin()\n",
        "\n",
        "# Create a list of bird objects\n",
        "birds = [bird, sparrow, penguin]\n",
        "\n",
        "# Iterate through the list and call the fly() method on each object\n",
        "# The output will vary depending on the object's specific implementation\n",
        "for bird_instance in birds:\n",
        "    bird_instance.fly() '''"
      ],
      "metadata": {
        "colab": {
          "base_uri": "https://localhost:8080/",
          "height": 487
        },
        "id": "57opLCH8ydhG",
        "outputId": "abb723df-d41f-42c6-900e-9e88f2e46c70"
      },
      "execution_count": null,
      "outputs": [
        {
          "output_type": "execute_result",
          "data": {
            "text/plain": [
              "'\\n # Base class\\nclass Bird:\\n    def fly(self):\\n        \"\"\"A generic fly method for all birds.\"\"\"\\n        print(\"Birds can generally fly.\")\\n\\n# Derived class Sparrow, which overrides the fly() method\\nclass Sparrow(Bird):\\n    def fly(self):\\n        \"\"\"Specific fly method for a sparrow.\"\"\"\\n        print(\"A sparrow flies away.\")\\n\\n# Derived class Penguin, which also overrides the fly() method\\nclass Penguin(Bird):\\n    def fly(self):\\n        \"\"\"Specific fly method for a penguin.\"\"\"\\n        print(\"A penguin cannot fly, but it can swim very well.\")\\n\\n# --- Demonstrate polymorphism ---\\n\\n# Create instances of each class\\nbird = Bird()\\nsparrow = Sparrow()\\npenguin = Penguin()\\n\\n# Create a list of bird objects\\nbirds = [bird, sparrow, penguin]\\n\\n# Iterate through the list and call the fly() method on each object\\n# The output will vary depending on the object\\'s specific implementation\\nfor bird_instance in birds:\\n    bird_instance.fly() '"
            ],
            "application/vnd.google.colaboratory.intrinsic+json": {
              "type": "string"
            }
          },
          "metadata": {},
          "execution_count": 5
        }
      ]
    },
    {
      "cell_type": "code",
      "source": [
        "#5.\n",
        "'''\n",
        "    A class to demonstrate encapsulation for a bank account.\n",
        "    \"\"\"\n",
        "    def __init__(self, initial_balance=0):\n",
        "        # The __balance attribute is private and cannot be directly accessed\n",
        "        # from outside the class.\n",
        "        if initial_balance < 0:\n",
        "            raise ValueError(\"Initial balance cannot be negative.\")\n",
        "        self.__balance = initial_balance\n",
        "\n",
        "    def deposit(self, amount):\n",
        "        \"\"\"Deposits a positive amount into the account.\"\"\"\n",
        "        if amount > 0:\n",
        "            self.__balance += amount\n",
        "            print(f\"Deposited: ${amount:.2f}\")\n",
        "        else:\n",
        "            print(\"Deposit amount must be positive.\")\n",
        "\n",
        "    def withdraw(self, amount):\n",
        "        \"\"\"Withdraws an amount from the account, if sufficient funds exist.\"\"\"\n",
        "        if amount > 0 and amount <= self.__balance:\n",
        "            self.__balance -= amount\n",
        "            print(f\"Withdrew: ${amount:.2f}\")\n",
        "        elif amount <= 0:\n",
        "            print(\"Withdrawal amount must be positive.\")\n",
        "        else:\n",
        "            print(\"Insufficient funds.\")\n",
        "\n",
        "    def check_balance(self):\n",
        "        \"\"\"Returns the current account balance.\"\"\"\n",
        "        return self.__balance\n",
        "\n",
        "# --- Usage Example ---\n",
        "if __name__ == \"__main__\":\n",
        "    # Create a new bank account instance\n",
        "    my_account = BankAccount(1000)\n",
        "\n",
        "    # Perform a valid deposit\n",
        "    my_account.deposit(500)\n",
        "    print(f\"Current balance: ${my_account.check_balance():.2f}\")\n",
        "\n",
        "    # Perform a valid withdrawal\n",
        "    my_account.withdraw(200)\n",
        "    print(f\"Current balance: ${my_account.check_balance():.2f}\")\n",
        "\n",
        "    # Attempt an invalid withdrawal (insufficient funds)\n",
        "    my_account.withdraw(1500)\n",
        "\n",
        "    # Attempt to access the private attribute directly (will fail)\n",
        "    try:\n",
        "        print(my_account.__balance)\n",
        "    except AttributeError as e:\n",
        "        print(f\"\\nAttempting to access private attribute failed: {e}\")\n",
        "\n",
        "    # Access the private attribute through the public check_balance method\n",
        "    print(f\"Final balance using check_balance(): ${my_account.check_balance():.2f}\")'''"
      ],
      "metadata": {
        "colab": {
          "base_uri": "https://localhost:8080/",
          "height": 487
        },
        "id": "-w6ztYqUytVy",
        "outputId": "dae26a94-bb72-4c6c-a9cb-b63f928986b7"
      },
      "execution_count": null,
      "outputs": [
        {
          "output_type": "execute_result",
          "data": {
            "text/plain": [
              "'\\n    A class to demonstrate encapsulation for a bank account.\\n    \"\"\"\\n    def __init__(self, initial_balance=0):\\n        # The __balance attribute is private and cannot be directly accessed\\n        # from outside the class.\\n        if initial_balance < 0:\\n            raise ValueError(\"Initial balance cannot be negative.\")\\n        self.__balance = initial_balance\\n\\n    def deposit(self, amount):\\n        \"\"\"Deposits a positive amount into the account.\"\"\"\\n        if amount > 0:\\n            self.__balance += amount\\n            print(f\"Deposited: ${amount:.2f}\")\\n        else:\\n            print(\"Deposit amount must be positive.\")\\n\\n    def withdraw(self, amount):\\n        \"\"\"Withdraws an amount from the account, if sufficient funds exist.\"\"\"\\n        if amount > 0 and amount <= self.__balance:\\n            self.__balance -= amount\\n            print(f\"Withdrew: ${amount:.2f}\")\\n        elif amount <= 0:\\n            print(\"Withdrawal amount must be positive.\")\\n        else:\\n            print(\"Insufficient funds.\")\\n\\n    def check_balance(self):\\n        \"\"\"Returns the current account balance.\"\"\"\\n        return self.__balance\\n\\n# --- Usage Example ---\\nif __name__ == \"__main__\":\\n    # Create a new bank account instance\\n    my_account = BankAccount(1000)\\n\\n    # Perform a valid deposit\\n    my_account.deposit(500)\\n    print(f\"Current balance: ${my_account.check_balance():.2f}\")\\n\\n    # Perform a valid withdrawal\\n    my_account.withdraw(200)\\n    print(f\"Current balance: ${my_account.check_balance():.2f}\")\\n\\n    # Attempt an invalid withdrawal (insufficient funds)\\n    my_account.withdraw(1500)\\n\\n    # Attempt to access the private attribute directly (will fail)\\n    try:\\n        print(my_account.__balance)\\n    except AttributeError as e:\\n        print(f\"\\nAttempting to access private attribute failed: {e}\")\\n\\n    # Access the private attribute through the public check_balance method\\n    print(f\"Final balance using check_balance(): ${my_account.check_balance():.2f}\")'"
            ],
            "application/vnd.google.colaboratory.intrinsic+json": {
              "type": "string"
            }
          },
          "metadata": {},
          "execution_count": 6
        }
      ]
    },
    {
      "cell_type": "code",
      "source": [
        "#6.\n",
        "'''\n",
        "  class Instrument:\n",
        "    def play(self):\n",
        "        \"\"\"A generic play method for any instrument.\"\"\"\n",
        "        print(\"The instrument makes a sound.\")\n",
        "\n",
        "# Derived class for a Guitar\n",
        "class Guitar(Instrument):\n",
        "    def play(self):\n",
        "        \"\"\"Overrides the play method for a guitar.\"\"\"\n",
        "        print(\"The guitar strums a chord.\")\n",
        "\n",
        "# Derived class for a Piano\n",
        "class Piano(Instrument):\n",
        "    def play(self):\n",
        "        \"\"\"Overrides the play method for a piano.\"\"\"\n",
        "        print(\"The piano plays a melody.\")\n",
        "\n",
        "# --- Demonstrate runtime polymorphism ---\n",
        "\n",
        "def make_it_play(instrument):\n",
        "    \"\"\"\n",
        "    A function that takes an object and calls its play() method.\n",
        "    The specific method executed depends on the object's actual type at runtime.\n",
        "    \"\"\"\n",
        "    instrument.play()\n",
        "\n",
        "# Create instances of each class\n",
        "generic_instrument = Instrument()\n",
        "guitar = Guitar()\n",
        "piano = Piano()\n",
        "\n",
        "# Call the function with different object types\n",
        "print(\"Playing the generic instrument:\")\n",
        "make_it_play(generic_instrument)\n",
        "\n",
        "print(\"\\nPlaying the guitar:\")\n",
        "make_it_play(guitar)\n",
        "\n",
        "print(\"\\nPlaying the piano:\")\n",
        "make_it_play(piano) '''"
      ],
      "metadata": {
        "colab": {
          "base_uri": "https://localhost:8080/",
          "height": 504
        },
        "id": "HbrxYyASzc3E",
        "outputId": "cd7fa395-17c5-4031-abc4-be1f81ca7e0e"
      },
      "execution_count": null,
      "outputs": [
        {
          "output_type": "execute_result",
          "data": {
            "text/plain": [
              "'\\n  class Instrument:\\n    def play(self):\\n        \"\"\"A generic play method for any instrument.\"\"\"\\n        print(\"The instrument makes a sound.\")\\n\\n# Derived class for a Guitar\\nclass Guitar(Instrument):\\n    def play(self):\\n        \"\"\"Overrides the play method for a guitar.\"\"\"\\n        print(\"The guitar strums a chord.\")\\n\\n# Derived class for a Piano\\nclass Piano(Instrument):\\n    def play(self):\\n        \"\"\"Overrides the play method for a piano.\"\"\"\\n        print(\"The piano plays a melody.\")\\n\\n# --- Demonstrate runtime polymorphism ---\\n\\ndef make_it_play(instrument):\\n    \"\"\"\\n    A function that takes an object and calls its play() method.\\n    The specific method executed depends on the object\\'s actual type at runtime.\\n    \"\"\"\\n    instrument.play()\\n\\n# Create instances of each class\\ngeneric_instrument = Instrument()\\nguitar = Guitar()\\npiano = Piano()\\n\\n# Call the function with different object types\\nprint(\"Playing the generic instrument:\")\\nmake_it_play(generic_instrument)\\n\\nprint(\"\\nPlaying the guitar:\")\\nmake_it_play(guitar)\\n\\nprint(\"\\nPlaying the piano:\")\\nmake_it_play(piano) '"
            ],
            "application/vnd.google.colaboratory.intrinsic+json": {
              "type": "string"
            }
          },
          "metadata": {},
          "execution_count": 7
        }
      ]
    },
    {
      "cell_type": "code",
      "source": [
        "#7.\n",
        "'''\n",
        "  class MathOperations:\n",
        "    \"\"\"\n",
        "    A class containing a class method and a static method for basic math.\n",
        "    \"\"\"\n",
        "\n",
        "    # Class method to add two numbers\n",
        "    @classmethod\n",
        "    def add_numbers(cls, num1, num2):\n",
        "        \"\"\"Adds two numbers using a class method.\"\"\"\n",
        "        print(f\"Adding {num1} and {num2} using a class method.\")\n",
        "        return num1 + num2\n",
        "\n",
        "    # Static method to subtract two numbers\n",
        "    @staticmethod\n",
        "    def subtract_numbers(num1, num2):\n",
        "        \"\"\"Subtracts two numbers using a static method.\"\"\"\n",
        "        print(f\"Subtracting {num2} from {num1} using a static method.\")\n",
        "        return num1 - num2\n",
        "\n",
        "# --- Usage Example ---\n",
        "\n",
        "# Call the class method directly on the class\n",
        "sum_result = MathOperations.add_numbers(10, 5)\n",
        "print(f\"Result of addition: {sum_result}\\n\")\n",
        "\n",
        "# Call the static method directly on the class\n",
        "diff_result = MathOperations.subtract_numbers(10, 5)\n",
        "print(f\"Result of subtraction: {diff_result}\\n\")\n",
        "\n",
        "# Calling the methods on an instance also works\n",
        "math_obj = MathOperations()\n",
        "sum_result_instance = math_obj.add_numbers(20, 8)\n",
        "print(f\"Result of addition from an instance: {sum_result_instance}\")\n",
        "\n",
        "diff_result_instance = math_obj.subtract_numbers(20, 8)\n",
        "print(f\"Result of subtraction from an instance: {diff_result_instance}\") '''"
      ],
      "metadata": {
        "colab": {
          "base_uri": "https://localhost:8080/",
          "height": 504
        },
        "id": "2pnfjjvJzyKg",
        "outputId": "f0082db9-9388-4cfa-f10f-187f35e7180f"
      },
      "execution_count": null,
      "outputs": [
        {
          "output_type": "execute_result",
          "data": {
            "text/plain": [
              "'\\n  class MathOperations:\\n    \"\"\"\\n    A class containing a class method and a static method for basic math.\\n    \"\"\"\\n\\n    # Class method to add two numbers\\n    @classmethod\\n    def add_numbers(cls, num1, num2):\\n        \"\"\"Adds two numbers using a class method.\"\"\"\\n        print(f\"Adding {num1} and {num2} using a class method.\")\\n        return num1 + num2\\n\\n    # Static method to subtract two numbers\\n    @staticmethod\\n    def subtract_numbers(num1, num2):\\n        \"\"\"Subtracts two numbers using a static method.\"\"\"\\n        print(f\"Subtracting {num2} from {num1} using a static method.\")\\n        return num1 - num2\\n\\n# --- Usage Example ---\\n\\n# Call the class method directly on the class\\nsum_result = MathOperations.add_numbers(10, 5)\\nprint(f\"Result of addition: {sum_result}\\n\")\\n\\n# Call the static method directly on the class\\ndiff_result = MathOperations.subtract_numbers(10, 5)\\nprint(f\"Result of subtraction: {diff_result}\\n\")\\n\\n# Calling the methods on an instance also works\\nmath_obj = MathOperations()\\nsum_result_instance = math_obj.add_numbers(20, 8)\\nprint(f\"Result of addition from an instance: {sum_result_instance}\")\\n\\ndiff_result_instance = math_obj.subtract_numbers(20, 8)\\nprint(f\"Result of subtraction from an instance: {diff_result_instance}\") '"
            ],
            "application/vnd.google.colaboratory.intrinsic+json": {
              "type": "string"
            }
          },
          "metadata": {},
          "execution_count": 8
        }
      ]
    },
    {
      "cell_type": "code",
      "source": [
        "#8.\n",
        "'''\n",
        "  class Person:\n",
        "    \"\"\"A class to count the total number of Person objects created.\"\"\"\n",
        "\n",
        "    # Class variable to keep track of the total number of persons\n",
        "    total_persons = 0\n",
        "\n",
        "    def __init__(self, name):\n",
        "        self.name = name\n",
        "        # Increment the class variable each time a new instance is created\n",
        "        Person.total_persons += 1\n",
        "        print(f\"A new person named '{self.name}' has been created.\")\n",
        "\n",
        "    @classmethod\n",
        "    def get_total_persons(cls):\n",
        "        \"\"\"Returns the total number of Person objects created.\"\"\"\n",
        "        return cls.total_persons\n",
        "\n",
        "# --- Usage Example ---\n",
        "\n",
        "# Create several Person objects\n",
        "p1 = Person(\"Alice\")\n",
        "p2 = Person(\"Bob\")\n",
        "p3 = Person(\"Charlie\")\n",
        "\n",
        "# Use the class method to get the total count\n",
        "print(f\"\\nTotal number of persons created: {Person.get_total_persons()}\")\n",
        "\n",
        "# Create another Person object\n",
        "p4 = Person(\"Diana\")\n",
        "\n",
        "# Get the updated count\n",
        "print(f\"\\nTotal number of persons created (updated): {Person.get_total_persons()}\") '''"
      ],
      "metadata": {
        "colab": {
          "base_uri": "https://localhost:8080/",
          "height": 487
        },
        "id": "GQm19W4p0Fjq",
        "outputId": "29f4ccd5-013f-4d70-f77f-c32aee6f98c0"
      },
      "execution_count": null,
      "outputs": [
        {
          "output_type": "execute_result",
          "data": {
            "text/plain": [
              "'\\n  class Person:\\n    \"\"\"A class to count the total number of Person objects created.\"\"\"\\n    \\n    # Class variable to keep track of the total number of persons\\n    total_persons = 0\\n\\n    def __init__(self, name):\\n        self.name = name\\n        # Increment the class variable each time a new instance is created\\n        Person.total_persons += 1\\n        print(f\"A new person named \\'{self.name}\\' has been created.\")\\n\\n    @classmethod\\n    def get_total_persons(cls):\\n        \"\"\"Returns the total number of Person objects created.\"\"\"\\n        return cls.total_persons\\n\\n# --- Usage Example ---\\n\\n# Create several Person objects\\np1 = Person(\"Alice\")\\np2 = Person(\"Bob\")\\np3 = Person(\"Charlie\")\\n\\n# Use the class method to get the total count\\nprint(f\"\\nTotal number of persons created: {Person.get_total_persons()}\")\\n\\n# Create another Person object\\np4 = Person(\"Diana\")\\n\\n# Get the updated count\\nprint(f\"\\nTotal number of persons created (updated): {Person.get_total_persons()}\") '"
            ],
            "application/vnd.google.colaboratory.intrinsic+json": {
              "type": "string"
            }
          },
          "metadata": {},
          "execution_count": 9
        }
      ]
    },
    {
      "cell_type": "code",
      "source": [
        "#9.\n",
        "''' class Fraction:\n",
        "    \"\"\"A class to represent a fraction.\"\"\"\n",
        "\n",
        "    def __init__(self, numerator, denominator):\n",
        "        \"\"\"Initializes the Fraction with a numerator and denominator.\"\"\"\n",
        "        if denominator == 0:\n",
        "            raise ValueError(\"Denominator cannot be zero.\")\n",
        "        self.numerator = numerator\n",
        "        self.denominator = denominator\n",
        "\n",
        "    def __str__(self):\n",
        "        \"\"\"\n",
        "        Overrides the standard string representation for the Fraction class.\n",
        "        Returns a human-readable string in the format \"numerator/denominator\".\n",
        "        \"\"\"\n",
        "        return f\"{self.numerator}/{self.denominator}\"\n",
        "\n",
        "# --- Usage Example ---\n",
        "\n",
        "# Create a Fraction object\n",
        "fraction1 = Fraction(3, 4)\n",
        "\n",
        "# Print the object directly, which calls the __str__ method\n",
        "print(f\"The fraction is: {fraction1}\")\n",
        "\n",
        "# Create another Fraction object\n",
        "fraction2 = Fraction(8, 2)\n",
        "print(f\"Another fraction: {fraction2}\")\n",
        "\n",
        "# Assigning the object to a string variable also calls __str__\n",
        "fraction_str = str(fraction1)\n",
        "print(f\"Stored as a string: {fraction_str}\") '''"
      ],
      "metadata": {
        "colab": {
          "base_uri": "https://localhost:8080/",
          "height": 487
        },
        "id": "Wx-hnQcs0mN7",
        "outputId": "98e0061c-765e-4b74-bdd5-737b409ef009"
      },
      "execution_count": null,
      "outputs": [
        {
          "output_type": "execute_result",
          "data": {
            "text/plain": [
              "' class Fraction:\\n    \"\"\"A class to represent a fraction.\"\"\"\\n    \\n    def __init__(self, numerator, denominator):\\n        \"\"\"Initializes the Fraction with a numerator and denominator.\"\"\"\\n        if denominator == 0:\\n            raise ValueError(\"Denominator cannot be zero.\")\\n        self.numerator = numerator\\n        self.denominator = denominator\\n\\n    def __str__(self):\\n        \"\"\"\\n        Overrides the standard string representation for the Fraction class.\\n        Returns a human-readable string in the format \"numerator/denominator\".\\n        \"\"\"\\n        return f\"{self.numerator}/{self.denominator}\"\\n\\n# --- Usage Example ---\\n\\n# Create a Fraction object\\nfraction1 = Fraction(3, 4)\\n\\n# Print the object directly, which calls the __str__ method\\nprint(f\"The fraction is: {fraction1}\")\\n\\n# Create another Fraction object\\nfraction2 = Fraction(8, 2)\\nprint(f\"Another fraction: {fraction2}\")\\n\\n# Assigning the object to a string variable also calls __str__\\nfraction_str = str(fraction1)\\nprint(f\"Stored as a string: {fraction_str}\") '"
            ],
            "application/vnd.google.colaboratory.intrinsic+json": {
              "type": "string"
            }
          },
          "metadata": {},
          "execution_count": 16
        }
      ]
    },
    {
      "cell_type": "code",
      "source": [
        "#10.\n",
        "''' class Vector:\n",
        "    \"\"\"\n",
        "    A class to represent a 2D vector and demonstrate operator overloading.\n",
        "    \"\"\"\n",
        "    def __init__(self, x, y):\n",
        "        \"\"\"Initializes a vector with x and y components.\"\"\"\n",
        "        self.x = x\n",
        "        self.y = y\n",
        "\n",
        "    def __str__(self):\n",
        "        \"\"\"Provides a user-friendly string representation of the vector.\"\"\"\n",
        "        return f\"Vector({self.x}, {self.y})\"\n",
        "\n",
        "    def __add__(self, other):\n",
        "        \"\"\"\n",
        "        Overrides the + operator to add two Vector objects.\n",
        "        This method is called when `vector1 + vector2` is executed.\n",
        "        \"\"\"\n",
        "        # Ensure the other operand is also a Vector for valid addition\n",
        "        if not isinstance(other, Vector):\n",
        "            raise TypeError(\"Unsupported operand type for +: 'Vector' and '{}'\".format(type(other).__name__))\n",
        "\n",
        "        # Add the corresponding components and return a new Vector object\n",
        "        new_x = self.x + other.x\n",
        "        new_y = self.y + other.y\n",
        "        return Vector(new_x, new_y)\n",
        "\n",
        "# --- Usage Example ---\n",
        "\n",
        "# Create two Vector objects\n",
        "vector1 = Vector(5, 10)\n",
        "vector2 = Vector(3, -2)\n",
        "\n",
        "# Add the two vectors using the overloaded + operator\n",
        "vector_sum = vector1 + vector2\n",
        "\n",
        "# Print the result\n",
        "print(f\"Vector 1: {vector1}\")\n",
        "print(f\"Vector 2: {vector2}\")\n",
        "print(f\"Result of vector addition: {vector_sum}\")\n",
        "\n",
        "# Attempt to add a Vector to a non-Vector object (e.g., an integer)\n",
        "try:\n",
        "    invalid_add = vector1 + 10\n",
        "except TypeError as e:\n",
        "    print(f\"\\nCaught an error: {e}\") '''"
      ],
      "metadata": {
        "colab": {
          "base_uri": "https://localhost:8080/",
          "height": 487
        },
        "id": "3zaqEcUW1jaI",
        "outputId": "a95d5817-e432-4a1d-a801-4f926e83b512"
      },
      "execution_count": null,
      "outputs": [
        {
          "output_type": "execute_result",
          "data": {
            "text/plain": [
              "' class Vector:\\n    \"\"\"\\n    A class to represent a 2D vector and demonstrate operator overloading.\\n    \"\"\"\\n    def __init__(self, x, y):\\n        \"\"\"Initializes a vector with x and y components.\"\"\"\\n        self.x = x\\n        self.y = y\\n\\n    def __str__(self):\\n        \"\"\"Provides a user-friendly string representation of the vector.\"\"\"\\n        return f\"Vector({self.x}, {self.y})\"\\n\\n    def __add__(self, other):\\n        \"\"\"\\n        Overrides the + operator to add two Vector objects.\\n        This method is called when `vector1 + vector2` is executed.\\n        \"\"\"\\n        # Ensure the other operand is also a Vector for valid addition\\n        if not isinstance(other, Vector):\\n            raise TypeError(\"Unsupported operand type for +: \\'Vector\\' and \\'{}\\'\".format(type(other).__name__))\\n        \\n        # Add the corresponding components and return a new Vector object\\n        new_x = self.x + other.x\\n        new_y = self.y + other.y\\n        return Vector(new_x, new_y)\\n\\n# --- Usage Example ---\\n\\n# Create two Vector objects\\nvector1 = Vector(5, 10)\\nvector2 = Vector(3, -2)\\n\\n# Add the two vectors using the overloaded + operator\\nvector_sum = vector1 + vector2\\n\\n# Print the result\\nprint(f\"Vector 1: {vector1}\")\\nprint(f\"Vector 2: {vector2}\")\\nprint(f\"Result of vector addition: {vector_sum}\") \\n\\n# Attempt to add a Vector to a non-Vector object (e.g., an integer)\\ntry:\\n    invalid_add = vector1 + 10\\nexcept TypeError as e:\\n    print(f\"\\nCaught an error: {e}\") '"
            ],
            "application/vnd.google.colaboratory.intrinsic+json": {
              "type": "string"
            }
          },
          "metadata": {},
          "execution_count": 17
        }
      ]
    },
    {
      "cell_type": "code",
      "source": [
        "#11.\n",
        "''' class Person:\n",
        "    def __init__(self, name, age):\n",
        "        self.name = name\n",
        "        self.age = age\n",
        "\n",
        "    def greet(self):\n",
        "        print(f\"Hello, my name is {self.name} and I am {self.age} years old.\")\n",
        "\n",
        "# Example usage:\n",
        "person1 = Person(\"Alice\", 30)\n",
        "person1.greet()\n",
        "\n",
        "person2 = Person(\"Bob\", 25)\n",
        "person2.greet() '''"
      ],
      "metadata": {
        "colab": {
          "base_uri": "https://localhost:8080/",
          "height": 174
        },
        "id": "TIPCP0w82T1q",
        "outputId": "80b22a5e-895b-486c-8479-f58aed805be7"
      },
      "execution_count": null,
      "outputs": [
        {
          "output_type": "execute_result",
          "data": {
            "text/plain": [
              "' class Person:\\n    def __init__(self, name, age):\\n        self.name = name\\n        self.age = age\\n\\n    def greet(self):\\n        print(f\"Hello, my name is {self.name} and I am {self.age} years old.\")\\n\\n# Example usage:\\nperson1 = Person(\"Alice\", 30)\\nperson1.greet() \\n\\nperson2 = Person(\"Bob\", 25)\\nperson2.greet() '"
            ],
            "application/vnd.google.colaboratory.intrinsic+json": {
              "type": "string"
            }
          },
          "metadata": {},
          "execution_count": 28
        }
      ]
    },
    {
      "cell_type": "code",
      "source": [
        "#12.\n",
        "''' A Student class can be implemented with name and grades as attributes. The average_grade() method calculates the average of the grades.\n",
        "class Student:\n",
        "    def __init__(self, name, grades):\n",
        "        \"\"\"\n",
        "        Initializes a Student object.\n",
        "\n",
        "        Args:\n",
        "            name (str): The name of the student.\n",
        "            grades (list): A list of numerical grades for the student.\n",
        "        \"\"\"\n",
        "        self.name = name\n",
        "        self.grades = grades\n",
        "\n",
        "    def average_grade(self):\n",
        "        \"\"\"\n",
        "        Calculates the average of the student's grades.\n",
        "\n",
        "        Returns:\n",
        "            float: The average grade, or 0 if there are no grades.\n",
        "        \"\"\"\n",
        "        if not self.grades:\n",
        "            return 0\n",
        "        return sum(self.grades) / len(self.grades)\n",
        "\n",
        "# Example usage:\n",
        "student1 = Student(\"Alice\", [90, 85, 92, 88])\n",
        "print(f\"{student1.name}'s average grade: {student1.average_grade():.2f}\")\n",
        "\n",
        "student2 = Student(\"Bob\", [75, 80, 78])\n",
        "print(f\"{student2.name}'s average grade: {student2.average_grade():.2f}\")\n",
        "\n",
        "student3 = Student(\"Charlie\", [])\n",
        "print(f\"{student3.name}'s average grade: {student3.average_grade():.2f}\") '''"
      ],
      "metadata": {
        "colab": {
          "base_uri": "https://localhost:8080/",
          "height": 504
        },
        "id": "3yGN3XXX6Pu6",
        "outputId": "a30647f9-2f5b-4232-9f33-63f3dcd23236"
      },
      "execution_count": null,
      "outputs": [
        {
          "output_type": "execute_result",
          "data": {
            "text/plain": [
              "' A Student class can be implemented with name and grades as attributes. The average_grade() method calculates the average of the grades. \\nclass Student:\\n    def __init__(self, name, grades):\\n        \"\"\"\\n        Initializes a Student object.\\n\\n        Args:\\n            name (str): The name of the student.\\n            grades (list): A list of numerical grades for the student.\\n        \"\"\"\\n        self.name = name\\n        self.grades = grades\\n\\n    def average_grade(self):\\n        \"\"\"\\n        Calculates the average of the student\\'s grades.\\n\\n        Returns:\\n            float: The average grade, or 0 if there are no grades.\\n        \"\"\"\\n        if not self.grades:\\n            return 0\\n        return sum(self.grades) / len(self.grades)\\n\\n# Example usage:\\nstudent1 = Student(\"Alice\", [90, 85, 92, 88])\\nprint(f\"{student1.name}\\'s average grade: {student1.average_grade():.2f}\")\\n\\nstudent2 = Student(\"Bob\", [75, 80, 78])\\nprint(f\"{student2.name}\\'s average grade: {student2.average_grade():.2f}\")\\n\\nstudent3 = Student(\"Charlie\", [])\\nprint(f\"{student3.name}\\'s average grade: {student3.average_grade():.2f}\") '"
            ],
            "application/vnd.google.colaboratory.intrinsic+json": {
              "type": "string"
            }
          },
          "metadata": {},
          "execution_count": 1
        }
      ]
    },
    {
      "cell_type": "code",
      "source": [
        "#13.\n",
        "'''\n",
        " class Rectangle:\n",
        "    \"\"\"\n",
        "    Represents a rectangle with a length and a width.\n",
        "    \"\"\"\n",
        "    def __init__(self, length=0, width=0):\n",
        "        \"\"\"\n",
        "        Initializes a Rectangle object.\n",
        "\n",
        "        Args:\n",
        "            length (float or int): The length of the rectangle.\n",
        "            width (float or int): The width of the rectangle.\n",
        "        \"\"\"\n",
        "        self.length = length\n",
        "        self.width = width\n",
        "\n",
        "    def set_dimensions(self, new_length, new_width):\n",
        "        \"\"\"\n",
        "        Sets new dimensions for the rectangle.\n",
        "\n",
        "        Args:\n",
        "            new_length (float or int): The new length.\n",
        "            new_width (float or int): The new width.\n",
        "        \"\"\"\n",
        "        if new_length >= 0 and new_width >= 0:\n",
        "            self.length = new_length\n",
        "            self.width = new_width\n",
        "        else:\n",
        "            print(\"Dimensions must be non-negative.\")\n",
        "\n",
        "    def area(self):\n",
        "        \"\"\"\n",
        "        Calculates and returns the area of the rectangle.\n",
        "\n",
        "        Returns:\n",
        "            float or int: The area of the rectangle.\n",
        "        \"\"\"\n",
        "        return self.length * self.width\n",
        "\n",
        "# Example usage\n",
        "if __name__ == \"__main__\":\n",
        "    # Create a rectangle with initial dimensions\n",
        "    rect1 = Rectangle(10, 5)\n",
        "    print(f\"Rectangle 1 dimensions: Length={rect1.length}, Width={rect1.width}\")\n",
        "    print(f\"Area of Rectangle 1: {rect1.area()}\")\n",
        "\n",
        "    # Create a rectangle using the default constructor\n",
        "    rect2 = Rectangle()\n",
        "    print(\"\\nRectangle 2 (initial):\")\n",
        "    print(f\"Dimensions: Length={rect2.length}, Width={rect2.width}\")\n",
        "    print(f\"Area: {rect2.area()}\")\n",
        "\n",
        "    # Set new dimensions for rect2\n",
        "    rect2.set_dimensions(15, 8)\n",
        "    print(\"\\nRectangle 2 (after setting new dimensions):\")\n",
        "    print(f\"Dimensions: Length={rect2.length}, Width={rect2.width}\")\n",
        "    print(f\"Area: {rect2.area()}\")\n",
        "\n",
        "    # Attempt to set invalid dimensions\n",
        "    print(\"\\nAttempting to set invalid dimensions:\")\n",
        "    rect2.set_dimensions(-5, 8) '''"
      ],
      "metadata": {
        "colab": {
          "base_uri": "https://localhost:8080/",
          "height": 504
        },
        "id": "LJrfEXiM4g--",
        "outputId": "40aaae4f-9010-4812-8ec2-4438f80f2868"
      },
      "execution_count": null,
      "outputs": [
        {
          "output_type": "execute_result",
          "data": {
            "text/plain": [
              "'\\n class Rectangle:\\n    \"\"\"\\n    Represents a rectangle with a length and a width.\\n    \"\"\"\\n    def __init__(self, length=0, width=0):\\n        \"\"\"\\n        Initializes a Rectangle object.\\n\\n        Args:\\n            length (float or int): The length of the rectangle.\\n            width (float or int): The width of the rectangle.\\n        \"\"\"\\n        self.length = length\\n        self.width = width\\n\\n    def set_dimensions(self, new_length, new_width):\\n        \"\"\"\\n        Sets new dimensions for the rectangle.\\n\\n        Args:\\n            new_length (float or int): The new length.\\n            new_width (float or int): The new width.\\n        \"\"\"\\n        if new_length >= 0 and new_width >= 0:\\n            self.length = new_length\\n            self.width = new_width\\n        else:\\n            print(\"Dimensions must be non-negative.\")\\n\\n    def area(self):\\n        \"\"\"\\n        Calculates and returns the area of the rectangle.\\n\\n        Returns:\\n            float or int: The area of the rectangle.\\n        \"\"\"\\n        return self.length * self.width\\n\\n# Example usage\\nif __name__ == \"__main__\":\\n    # Create a rectangle with initial dimensions\\n    rect1 = Rectangle(10, 5)\\n    print(f\"Rectangle 1 dimensions: Length={rect1.length}, Width={rect1.width}\")\\n    print(f\"Area of Rectangle 1: {rect1.area()}\")\\n\\n    # Create a rectangle using the default constructor\\n    rect2 = Rectangle()\\n    print(\"\\nRectangle 2 (initial):\")\\n    print(f\"Dimensions: Length={rect2.length}, Width={rect2.width}\")\\n    print(f\"Area: {rect2.area()}\")\\n\\n    # Set new dimensions for rect2\\n    rect2.set_dimensions(15, 8)\\n    print(\"\\nRectangle 2 (after setting new dimensions):\")\\n    print(f\"Dimensions: Length={rect2.length}, Width={rect2.width}\")\\n    print(f\"Area: {rect2.area()}\")\\n\\n    # Attempt to set invalid dimensions\\n    print(\"\\nAttempting to set invalid dimensions:\")\\n    rect2.set_dimensions(-5, 8) '"
            ],
            "application/vnd.google.colaboratory.intrinsic+json": {
              "type": "string"
            }
          },
          "metadata": {},
          "execution_count": 29
        }
      ]
    },
    {
      "cell_type": "code",
      "source": [
        "#15.\n",
        "''' class Product:\n",
        "    \"\"\"\n",
        "    Represents a product with a name, price, and quantity.\n",
        "    \"\"\"\n",
        "    def __init__(self, name, price, quantity):\n",
        "        \"\"\"\n",
        "        Initializes a Product object.\n",
        "\n",
        "        Args:\n",
        "            name (str): The name of the product.\n",
        "            price (float): The price of a single unit of the product.\n",
        "            quantity (int): The number of units of the product.\n",
        "        \"\"\"\n",
        "        self.name = name\n",
        "        self.price = price\n",
        "        self.quantity = quantity\n",
        "\n",
        "    def total_price(self):\n",
        "        \"\"\"\n",
        "        Calculates the total price of the product based on its price and quantity.\n",
        "\n",
        "        Returns:\n",
        "            float: The total price.\n",
        "        \"\"\"\n",
        "        if self.price < 0 or self.quantity < 0:\n",
        "            return 0.0\n",
        "        return self.price * self.quantity\n",
        "\n",
        "    def __str__(self):\n",
        "        \"\"\"\n",
        "        Returns a string representation of the Product object.\n",
        "        \"\"\"\n",
        "        return f\"Product(name='{self.name}', price=${self.price:.2f}, quantity={self.quantity})\"\n",
        "\n",
        "# Example usage\n",
        "if __name__ == \"__main__\":\n",
        "    # Create a new product\n",
        "    product1 = Product(\"Laptop\", 999.99, 2)\n",
        "    print(product1)\n",
        "    print(f\"Total price for {product1.name}: ${product1.total_price():.2f}\")\n",
        "\n",
        "    # Create another product with different values\n",
        "    product2 = Product(\"Mouse\", 25.50, 5)\n",
        "    print(product2)\n",
        "    print(f\"Total price for {product2.name}: ${product2.total_price():.2f}\")\n",
        "\n",
        "    # Demonstrate a product with zero quantity\n",
        "    product3 = Product(\"Keyboard\", 75.00, 0)\n",
        "    print(product3)\n",
        "    print(f\"Total price for {product3.name}: ${product3.total_price():.2f}\") '''"
      ],
      "metadata": {
        "colab": {
          "base_uri": "https://localhost:8080/",
          "height": 487
        },
        "id": "vSsoB7Xa5FPP",
        "outputId": "f8a0fce1-f453-44b5-c3c1-dc92cf13c241"
      },
      "execution_count": null,
      "outputs": [
        {
          "output_type": "execute_result",
          "data": {
            "text/plain": [
              "' class Product:\\n    \"\"\"\\n    Represents a product with a name, price, and quantity.\\n    \"\"\"\\n    def __init__(self, name, price, quantity):\\n        \"\"\"\\n        Initializes a Product object.\\n\\n        Args:\\n            name (str): The name of the product.\\n            price (float): The price of a single unit of the product.\\n            quantity (int): The number of units of the product.\\n        \"\"\"\\n        self.name = name\\n        self.price = price\\n        self.quantity = quantity\\n\\n    def total_price(self):\\n        \"\"\"\\n        Calculates the total price of the product based on its price and quantity.\\n\\n        Returns:\\n            float: The total price.\\n        \"\"\"\\n        if self.price < 0 or self.quantity < 0:\\n            return 0.0\\n        return self.price * self.quantity\\n\\n    def __str__(self):\\n        \"\"\"\\n        Returns a string representation of the Product object.\\n        \"\"\"\\n        return f\"Product(name=\\'{self.name}\\', price=${self.price:.2f}, quantity={self.quantity})\"\\n\\n# Example usage\\nif __name__ == \"__main__\":\\n    # Create a new product\\n    product1 = Product(\"Laptop\", 999.99, 2)\\n    print(product1)\\n    print(f\"Total price for {product1.name}: ${product1.total_price():.2f}\")\\n\\n    # Create another product with different values\\n    product2 = Product(\"Mouse\", 25.50, 5)\\n    print(product2)\\n    print(f\"Total price for {product2.name}: ${product2.total_price():.2f}\")\\n\\n    # Demonstrate a product with zero quantity\\n    product3 = Product(\"Keyboard\", 75.00, 0)\\n    print(product3)\\n    print(f\"Total price for {product3.name}: ${product3.total_price():.2f}\") '"
            ],
            "application/vnd.google.colaboratory.intrinsic+json": {
              "type": "string"
            }
          },
          "metadata": {},
          "execution_count": 31
        }
      ]
    },
    {
      "cell_type": "code",
      "source": [
        "#16.\n",
        "''' from abc import ABC, abstractmethod\n",
        "\n",
        "class Animal(ABC):\n",
        "    \"\"\"\n",
        "    An abstract base class for animals, with an abstract method for their sound.\n",
        "    \"\"\"\n",
        "    @abstractmethod\n",
        "    def sound(self):\n",
        "        \"\"\"\n",
        "        An abstract method to be implemented by all derived classes.\n",
        "        \"\"\"\n",
        "        pass\n",
        "\n",
        "class Cow(Animal):\n",
        "    \"\"\"\n",
        "    A concrete class representing a cow, which implements the sound() method.\n",
        "    \"\"\"\n",
        "    def sound(self):\n",
        "        \"\"\"\n",
        "        Returns the sound a cow makes.\n",
        "        \"\"\"\n",
        "        return \"Moo\"\n",
        "\n",
        "class Sheep(Animal):\n",
        "    \"\"\"\n",
        "    A concrete class representing a sheep, which implements the sound() method.\n",
        "    \"\"\"\n",
        "    def sound(self):\n",
        "        \"\"\"\n",
        "        Returns the sound a sheep makes.\n",
        "        \"\"\"\n",
        "        return \"Baa\"\n",
        "\n",
        "# Example usage\n",
        "if __name__ == \"__main__\":\n",
        "    # Create instances of the derived (concrete) classes\n",
        "    cow = Cow()\n",
        "    sheep = Sheep()\n",
        "\n",
        "    # Call the sound() method on each instance\n",
        "    print(f\"The cow says: {cow.sound()}\")\n",
        "    print(f\"The sheep says: {sheep.sound()}\")\n",
        "\n",
        "    # Trying to instantiate the abstract class will raise a TypeError\n",
        "    try:\n",
        "        abstract_animal = Animal()\n",
        "    except TypeError as e:\n",
        "        print(f\"\\nAttempting to instantiate the abstract Animal class raises a TypeError: {e}\") '''"
      ],
      "metadata": {
        "colab": {
          "base_uri": "https://localhost:8080/",
          "height": 504
        },
        "id": "5RFyMS305SNM",
        "outputId": "f2779984-7f49-4295-c4f4-558e2bb92727"
      },
      "execution_count": null,
      "outputs": [
        {
          "output_type": "execute_result",
          "data": {
            "text/plain": [
              "' from abc import ABC, abstractmethod\\n\\nclass Animal(ABC):\\n    \"\"\"\\n    An abstract base class for animals, with an abstract method for their sound.\\n    \"\"\"\\n    @abstractmethod\\n    def sound(self):\\n        \"\"\"\\n        An abstract method to be implemented by all derived classes.\\n        \"\"\"\\n        pass\\n\\nclass Cow(Animal):\\n    \"\"\"\\n    A concrete class representing a cow, which implements the sound() method.\\n    \"\"\"\\n    def sound(self):\\n        \"\"\"\\n        Returns the sound a cow makes.\\n        \"\"\"\\n        return \"Moo\"\\n\\nclass Sheep(Animal):\\n    \"\"\"\\n    A concrete class representing a sheep, which implements the sound() method.\\n    \"\"\"\\n    def sound(self):\\n        \"\"\"\\n        Returns the sound a sheep makes.\\n        \"\"\"\\n        return \"Baa\"\\n\\n# Example usage\\nif __name__ == \"__main__\":\\n    # Create instances of the derived (concrete) classes\\n    cow = Cow()\\n    sheep = Sheep()\\n\\n    # Call the sound() method on each instance\\n    print(f\"The cow says: {cow.sound()}\")\\n    print(f\"The sheep says: {sheep.sound()}\")\\n\\n    # Trying to instantiate the abstract class will raise a TypeError\\n    try:\\n        abstract_animal = Animal()\\n    except TypeError as e:\\n        print(f\"\\nAttempting to instantiate the abstract Animal class raises a TypeError: {e}\") '"
            ],
            "application/vnd.google.colaboratory.intrinsic+json": {
              "type": "string"
            }
          },
          "metadata": {},
          "execution_count": 32
        }
      ]
    },
    {
      "cell_type": "code",
      "source": [
        "#17.\n",
        "''' class Book:\n",
        "    \"\"\"\n",
        "    Represents a book with a title, author, and year published.\n",
        "    \"\"\"\n",
        "    def __init__(self, title, author, year_published):\n",
        "        \"\"\"\n",
        "        Initializes a Book object.\n",
        "\n",
        "        Args:\n",
        "            title (str): The title of the book.\n",
        "            author (str): The author of the book.\n",
        "            year_published (int): The year the book was published.\n",
        "        \"\"\"\n",
        "        self.title = title\n",
        "        self.author = author\n",
        "        self.year_published = year_published\n",
        "\n",
        "    def get_book_info(self):\n",
        "        \"\"\"\n",
        "        Returns a formatted string containing the book's details.\n",
        "\n",
        "        Returns:\n",
        "            str: A formatted string with the book's title, author, and year.\n",
        "        \"\"\"\n",
        "        return f\"Title: {self.title}\\nAuthor: {self.author}\\nYear Published: {self.year_published}\"\n",
        "\n",
        "# Example usage\n",
        "if __name__ == \"__main__\":\n",
        "    # Create a new book object\n",
        "    book1 = Book(\"The Hitchhiker's Guide to the Galaxy\", \"Douglas Adams\", 1979)\n",
        "\n",
        "    # Call the get_book_info() method and print the result\n",
        "    print(book1.get_book_info())\n",
        "\n",
        "    print(\"-\" * 20)  # Separator for clarity\n",
        "\n",
        "    # Create another book object\n",
        "    book2 = Book(\"Dune\", \"Frank Herbert\", 1965)\n",
        "    print(book2.get_book_info()) '''"
      ],
      "metadata": {
        "colab": {
          "base_uri": "https://localhost:8080/",
          "height": 487
        },
        "id": "MVq8oyAk5qvf",
        "outputId": "2747b12e-7541-497f-93fa-749a32c8e283"
      },
      "execution_count": null,
      "outputs": [
        {
          "output_type": "execute_result",
          "data": {
            "text/plain": [
              "' class Book:\\n    \"\"\"\\n    Represents a book with a title, author, and year published.\\n    \"\"\"\\n    def __init__(self, title, author, year_published):\\n        \"\"\"\\n        Initializes a Book object.\\n\\n        Args:\\n            title (str): The title of the book.\\n            author (str): The author of the book.\\n            year_published (int): The year the book was published.\\n        \"\"\"\\n        self.title = title\\n        self.author = author\\n        self.year_published = year_published\\n\\n    def get_book_info(self):\\n        \"\"\"\\n        Returns a formatted string containing the book\\'s details.\\n\\n        Returns:\\n            str: A formatted string with the book\\'s title, author, and year.\\n        \"\"\"\\n        return f\"Title: {self.title}\\nAuthor: {self.author}\\nYear Published: {self.year_published}\"\\n\\n# Example usage\\nif __name__ == \"__main__\":\\n    # Create a new book object\\n    book1 = Book(\"The Hitchhiker\\'s Guide to the Galaxy\", \"Douglas Adams\", 1979)\\n\\n    # Call the get_book_info() method and print the result\\n    print(book1.get_book_info())\\n\\n    print(\"-\" * 20)  # Separator for clarity\\n\\n    # Create another book object\\n    book2 = Book(\"Dune\", \"Frank Herbert\", 1965)\\n    print(book2.get_book_info()) '"
            ],
            "application/vnd.google.colaboratory.intrinsic+json": {
              "type": "string"
            }
          },
          "metadata": {},
          "execution_count": 33
        }
      ]
    },
    {
      "cell_type": "code",
      "source": [
        "#18.\n",
        "''' class House:\n",
        "    \"\"\"\n",
        "    Represents a generic house with an address and price.\n",
        "    \"\"\"\n",
        "    def __init__(self, address, price):\n",
        "        \"\"\"\n",
        "        Initializes a House object.\n",
        "\n",
        "        Args:\n",
        "            address (str): The address of the house.\n",
        "            price (float or int): The price of the house.\n",
        "        \"\"\"\n",
        "        self.address = address\n",
        "        self.price = price\n",
        "\n",
        "    def get_info(self):\n",
        "        \"\"\"\n",
        "        Returns a formatted string with the house's details.\n",
        "\n",
        "        Returns:\n",
        "            str: A formatted string showing the address and price.\n",
        "        \"\"\"\n",
        "        return f\"Address: {self.address}, Price: ${self.price:,.2f}\"\n",
        "\n",
        "class Mansion(House):\n",
        "    \"\"\"\n",
        "    Represents a mansion, which is a type of house with a number of rooms.\n",
        "    \"\"\"\n",
        "    def __init__(self, address, price, number_of_rooms):\n",
        "        \"\"\"\n",
        "        Initializes a Mansion object by calling the parent constructor\n",
        "        and adding the number_of_rooms attribute.\n",
        "\n",
        "        Args:\n",
        "            address (str): The address of the mansion.\n",
        "            price (float or int): The price of the mansion.\n",
        "            number_of_rooms (int): The number of rooms in the mansion.\n",
        "        \"\"\"\n",
        "        super().__init__(address, price) # Call the constructor of the parent class\n",
        "        self.number_of_rooms = number_of_rooms\n",
        "\n",
        "    def get_info(self):\n",
        "        \"\"\"\n",
        "        Overrides the parent's method to include the number of rooms.\n",
        "\n",
        "        Returns:\n",
        "            str: A formatted string with the mansion's details.\n",
        "        \"\"\"\n",
        "        parent_info = super().get_info()\n",
        "        return f\"{parent_info}, Number of Rooms: {self.number_of_rooms}\"\n",
        "\n",
        "# Example usage\n",
        "if __name__ == \"__main__\":\n",
        "    # Create an instance of the House class\n",
        "    house1 = House(\"123 Main St\", 350000)\n",
        "    print(\"House Details:\")\n",
        "    print(house1.get_info())\n",
        "\n",
        "    print(\"\\n\" + \"=\"*20 + \"\\n\")\n",
        "\n",
        "    # Create an instance of the Mansion class\n",
        "    mansion1 = Mansion(\"456 Grand Ave\", 2500000, 15)\n",
        "    print(\"Mansion Details:\")\n",
        "    print(mansion1.get_info()) '''"
      ],
      "metadata": {
        "colab": {
          "base_uri": "https://localhost:8080/",
          "height": 487
        },
        "id": "O4q15Xy453KD",
        "outputId": "996484d4-d4f6-4b9e-ad51-7557599f30b2"
      },
      "execution_count": null,
      "outputs": [
        {
          "output_type": "execute_result",
          "data": {
            "text/plain": [
              "' class House:\\n    \"\"\"\\n    Represents a generic house with an address and price.\\n    \"\"\"\\n    def __init__(self, address, price):\\n        \"\"\"\\n        Initializes a House object.\\n\\n        Args:\\n            address (str): The address of the house.\\n            price (float or int): The price of the house.\\n        \"\"\"\\n        self.address = address\\n        self.price = price\\n\\n    def get_info(self):\\n        \"\"\"\\n        Returns a formatted string with the house\\'s details.\\n\\n        Returns:\\n            str: A formatted string showing the address and price.\\n        \"\"\"\\n        return f\"Address: {self.address}, Price: ${self.price:,.2f}\"\\n\\nclass Mansion(House):\\n    \"\"\"\\n    Represents a mansion, which is a type of house with a number of rooms.\\n    \"\"\"\\n    def __init__(self, address, price, number_of_rooms):\\n        \"\"\"\\n        Initializes a Mansion object by calling the parent constructor\\n        and adding the number_of_rooms attribute.\\n\\n        Args:\\n            address (str): The address of the mansion.\\n            price (float or int): The price of the mansion.\\n            number_of_rooms (int): The number of rooms in the mansion.\\n        \"\"\"\\n        super().__init__(address, price) # Call the constructor of the parent class\\n        self.number_of_rooms = number_of_rooms\\n\\n    def get_info(self):\\n        \"\"\"\\n        Overrides the parent\\'s method to include the number of rooms.\\n\\n        Returns:\\n            str: A formatted string with the mansion\\'s details.\\n        \"\"\"\\n        parent_info = super().get_info()\\n        return f\"{parent_info}, Number of Rooms: {self.number_of_rooms}\"\\n\\n# Example usage\\nif __name__ == \"__main__\":\\n    # Create an instance of the House class\\n    house1 = House(\"123 Main St\", 350000)\\n    print(\"House Details:\")\\n    print(house1.get_info())\\n\\n    print(\"\\n\" + \"=\"*20 + \"\\n\")\\n\\n    # Create an instance of the Mansion class\\n    mansion1 = Mansion(\"456 Grand Ave\", 2500000, 15)\\n    print(\"Mansion Details:\")\\n    print(mansion1.get_info()) '"
            ],
            "application/vnd.google.colaboratory.intrinsic+json": {
              "type": "string"
            }
          },
          "metadata": {},
          "execution_count": 34
        }
      ]
    }
  ]
}